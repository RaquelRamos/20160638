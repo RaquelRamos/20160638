{
  "nbformat": 4,
  "nbformat_minor": 0,
  "metadata": {
    "colab": {
      "name": "TPC_1.ipynb",
      "version": "0.3.2",
      "provenance": [],
      "collapsed_sections": [],
      "include_colab_link": true
    },
    "kernelspec": {
      "display_name": "Python 3",
      "language": "python",
      "name": "python3"
    }
  },
  "cells": [
    {
      "cell_type": "markdown",
      "metadata": {
        "id": "view-in-github",
        "colab_type": "text"
      },
      "source": [
        "[View in Colaboratory](https://colab.research.google.com/github/RaquelRamos/20160638/blob/master/TPC_1.ipynb)"
      ]
    },
    {
      "metadata": {
        "id": "XMcEAqcI1iIX",
        "colab_type": "text"
      },
      "cell_type": "markdown",
      "source": [
        "# SAD - TPC 1\n",
        "\n",
        "### Dominar a linguagem Python\n",
        "\n",
        "----\n",
        "\n",
        "Uma string S composta de N caracteres é considerada como correta se qualquer uma das seguintes condições for verdadeira:\n",
        "\n",
        "- S for vazia;\n",
        "- S tem a forma \"(U)\" ou \"[U]\" ou \"{U}\" onde U é também uma string correta;\n",
        "- S tem a forma \"VW\" onde V e W são strings corretas.\n",
        "\n",
        "\n",
        "Por exemplo, a string \"{[() ()]}\" é considerada correta, mas \"([) ()]\" não é.\n",
        "\n",
        "Escreva uma função:\n",
        "\n",
        "```def solution(S)```\n",
        "\n",
        "que, dada uma sequência S com N caracteres, retorna 1 se S estiver correta e 0 caso contrário.\n",
        "\n",
        "Por exemplo, dado S = \"{[() ()]}\", a função deve retornar 1 e dado S = \"([) ()]\", a função deve retornar 0, como explicado acima.\n",
        "\n",
        "Assuma que:\n",
        "\n",
        "- N é um número inteiro dentro do intervalo [0..200,000];\n",
        "- A string S consiste apenas nos seguintes caracteres: \"(\", \"{\", \"[\", \"]\", \"}\" e / ou \")\".\n",
        "\n",
        "\n"
      ]
    },
    {
      "metadata": {
        "id": "7TNo0TLA1oKl",
        "colab_type": "code",
        "colab": {
          "base_uri": "https://localhost:8080/",
          "height": 68
        },
        "outputId": "ecfeae94-feb6-407b-e624-0d636c2f4a85"
      },
      "cell_type": "code",
      "source": [
        "caracteres = [\"(\", \"[\", \"{\", \"}\", \"]\", \")\"]\n",
        "\n",
        "\n",
        "def solution(S):\n",
        "\n",
        "#Caso S seja vazio\n",
        "    if not S:\n",
        "        return 1\n",
        "    \n",
        "#Verificar se todos os caracteres de S são válidos\n",
        "    i = 0\n",
        "    while len(S) != i:\n",
        "      if not (S[i] in caracteres):\n",
        "        return 0\n",
        "      i += 1\n",
        " \n",
        "#Verificar que S tem a forma correta\n",
        "    while len(S) != 0:\n",
        "        str = S\n",
        "        S = S.replace('()', '').replace('[]', '').replace('{}', '')\n",
        "        if str is S:\n",
        "            return 0\n",
        "\n",
        "    return 1\n",
        "  \n",
        "print(solution('{[()()]}'))\n",
        "print(solution('([) ()]'))\n",
        "print(solution('{a[()()]}'))"
      ],
      "execution_count": 1,
      "outputs": [
        {
          "output_type": "stream",
          "text": [
            "1\n",
            "0\n",
            "0\n"
          ],
          "name": "stdout"
        }
      ]
    }
  ]
}