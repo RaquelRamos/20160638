{
  "nbformat": 4,
  "nbformat_minor": 0,
  "metadata": {
    "colab": {
      "name": "TPC_4.ipynb",
      "version": "0.3.2",
      "provenance": [],
      "collapsed_sections": [],
      "include_colab_link": true
    },
    "kernelspec": {
      "display_name": "SADenv",
      "language": "python",
      "name": "sadenv"
    }
  },
  "cells": [
    {
      "cell_type": "markdown",
      "metadata": {
        "id": "view-in-github",
        "colab_type": "text"
      },
      "source": [
        "<a href=\"https://colab.research.google.com/github/RaquelRamos/20160638/blob/master/TPC_4.ipynb\" target=\"_parent\"><img src=\"https://colab.research.google.com/assets/colab-badge.svg\" alt=\"Open In Colab\"/></a>"
      ]
    },
    {
      "metadata": {
        "id": "o31yv86x7SwT",
        "colab_type": "text"
      },
      "cell_type": "markdown",
      "source": [
        "# SAD - TPC 4\n",
        "\n",
        "### Aplicar Algoritmos\n",
        "\n",
        "----\n",
        "\n",
        "\n",
        "- Usando sklearn correr os métodos Decision Tree, Random Forrest e Naive Bayes para o dataset Digits, definido em baixo;\n",
        "\n",
        "- Usar o training set para executar o treino do modelo;\n",
        "\n",
        "- Comparar o erro obtido em cada método, para o testset e para o training set e expecificar se os valores são os esperados;\n",
        "\n",
        "- Para um dos algoritmos, dar exemplos do test set de instâncias mal bem classificadas (2 de cada);\n",
        "\n",
        "O DataSet de dígitos pode ser carregado assim:"
      ]
    },
    {
      "metadata": {
        "id": "bcyxQxng7SwX",
        "colab_type": "code",
        "outputId": "822f74b9-1772-4ab2-a902-7f9ea957294a",
        "colab": {
          "base_uri": "https://localhost:8080/",
          "height": 876
        }
      },
      "cell_type": "code",
      "source": [
        "#Decision Tree\n",
        "# Import datasets, classifiers and performance metrics\n",
        "from sklearn import datasets, tree, model_selection\n",
        "\n",
        "import pandas as pd\n",
        "import numpy as np\n",
        "import matplotlib.pyplot as plt\n",
        "\n",
        "\n",
        "\n",
        "# The digits dataset\n",
        "digits = datasets.load_digits()\n",
        "\n",
        "\n",
        "[features_train, features_test, classes_train, classes_test] = model_selection.train_test_split(digits.data, digits.target, test_size=0.30)\n",
        "model = tree.DecisionTreeClassifier()\n",
        "\n",
        "clf = model.fit(features_train, classes_train)\n",
        "\n",
        "score_train = model.score(features_train, classes_train)\n",
        "score_test = model.score(features_test, classes_test)\n",
        "\n",
        "print(\"Features:\", digits.target_names)\n",
        "print(\"score_train:\", score_train)\n",
        "print(\"score_test:\", score_test)\n",
        "print(\"\")\n",
        "\n",
        "\n",
        "print(\"Resultados mal classificados:\")\n",
        "res = model.predict(features_test)\n",
        "err_features=features_test[res!=classes_test,:][:2]\n",
        "print(\"actual: \",classes_test[res!=classes_test])\n",
        "print(\"predict:\",res[res!=classes_test])\n",
        "\n",
        "#Wrong ones\n",
        "plt.figure()\n",
        "for i,feat in enumerate(err_features):\n",
        "    plt.subplot(1, 2, i+1)    \n",
        "    plt.imshow(feat.reshape(8,8), cmap='binary')\n",
        "\n",
        "plt.show()\n",
        "print(\"\")\n",
        "\n",
        "\n",
        "ok_features=features_test[res==classes_test,:][:2]\n",
        "#Some rights\n",
        "print(\"Resultados bem classificados:\")\n",
        "print(\"actual: \",classes_test[res!=classes_test])\n",
        "print(\"predict:\",res[res!=classes_test])\n",
        "plt.figure()\n",
        "for i,feat in enumerate(ok_features):\n",
        "    plt.subplot(1, 2, i+1)    \n",
        "    plt.imshow(feat.reshape(8,8), cmap='binary')\n"
      ],
      "execution_count": 0,
      "outputs": [
        {
          "output_type": "stream",
          "text": [
            "('Features:', array([0, 1, 2, 3, 4, 5, 6, 7, 8, 9]))\n",
            "('score_train:', 1.0)\n",
            "('score_test:', 0.8481481481481481)\n",
            "\n",
            "Resultados mal classificados:\n",
            "('actual: ', array([9, 7, 0, 1, 1, 6, 2, 7, 7, 4, 1, 9, 5, 7, 4, 3, 5, 1, 3, 5, 7, 4,\n",
            "       1, 9, 4, 4, 7, 7, 6, 2, 3, 3, 8, 2, 5, 8, 8, 1, 8, 9, 3, 9, 5, 9,\n",
            "       8, 3, 4, 1, 1, 3, 9, 4, 3, 7, 8, 4, 6, 3, 2, 8, 7, 9, 0, 9, 8, 3,\n",
            "       7, 6, 7, 1, 9, 9, 8, 1, 4, 9, 1, 8, 1, 3, 3, 4]))\n",
            "('predict:', array([8, 8, 5, 8, 9, 3, 8, 8, 8, 9, 2, 0, 3, 4, 7, 8, 8, 8, 1, 4, 3, 1,\n",
            "       8, 2, 1, 8, 8, 4, 4, 8, 9, 2, 2, 8, 9, 1, 2, 7, 4, 4, 9, 8, 3, 8,\n",
            "       7, 9, 7, 9, 4, 9, 7, 9, 9, 4, 9, 5, 7, 9, 6, 5, 4, 5, 4, 4, 1, 9,\n",
            "       8, 3, 6, 4, 7, 4, 3, 8, 0, 1, 8, 7, 8, 9, 8, 5]))\n"
          ],
          "name": "stdout"
        },
        {
          "output_type": "display_data",
          "data": {
            "image/png": "[encoded data removed]",
            "text/plain": [
              "<matplotlib.figure.Figure at 0x7f0be6b26250>"
            ]
          },
          "metadata": {
            "tags": []
          }
        },
        {
          "output_type": "stream",
          "text": [
            "\n",
            "Resultados bem classificados:\n",
            "('actual: ', array([9, 7, 0, 1, 1, 6, 2, 7, 7, 4, 1, 9, 5, 7, 4, 3, 5, 1, 3, 5, 7, 4,\n",
            "       1, 9, 4, 4, 7, 7, 6, 2, 3, 3, 8, 2, 5, 8, 8, 1, 8, 9, 3, 9, 5, 9,\n",
            "       8, 3, 4, 1, 1, 3, 9, 4, 3, 7, 8, 4, 6, 3, 2, 8, 7, 9, 0, 9, 8, 3,\n",
            "       7, 6, 7, 1, 9, 9, 8, 1, 4, 9, 1, 8, 1, 3, 3, 4]))\n",
            "('predict:', array([8, 8, 5, 8, 9, 3, 8, 8, 8, 9, 2, 0, 3, 4, 7, 8, 8, 8, 1, 4, 3, 1,\n",
            "       8, 2, 1, 8, 8, 4, 4, 8, 9, 2, 2, 8, 9, 1, 2, 7, 4, 4, 9, 8, 3, 8,\n",
            "       7, 9, 7, 9, 4, 9, 7, 9, 9, 4, 9, 5, 7, 9, 6, 5, 4, 5, 4, 4, 1, 9,\n",
            "       8, 3, 6, 4, 7, 4, 3, 8, 0, 1, 8, 7, 8, 9, 8, 5]))\n"
          ],
          "name": "stdout"
        },
        {
          "output_type": "display_data",
          "data": {
            "image/png": "[encoded data removed]",
            "text/plain": [
              "<matplotlib.figure.Figure at 0x7f0be6971110>"
            ]
          },
          "metadata": {
            "tags": []
          }
        }
      ]
    },
    {
      "metadata": {
        "id": "ExaR_5tgac41",
        "colab_type": "code",
        "outputId": "070a1ada-5fa1-49df-ba2a-3bea93fc8b64",
        "colab": {
          "base_uri": "https://localhost:8080/",
          "height": 51
        }
      },
      "cell_type": "code",
      "source": [
        "#Radom Forrest\n",
        "# Import datasets, classifiers and performance metrics\n",
        "import numpy as np\n",
        "import matplotlib.pyplot as plt\n",
        "from matplotlib.colors import ListedColormap\n",
        "from sklearn.ensemble import RandomForestClassifier\n",
        "from sklearn import datasets\n",
        "\n",
        "\n",
        "# The digits dataset\n",
        "digits = datasets.load_digits()\n",
        "\n",
        "[features_train, features_test, classes_train, classes_test] = model_selection.train_test_split(digits.data, digits.target, test_size=0.30)\n",
        "model = RandomForestClassifier(n_estimators=1000)\n",
        "\n",
        "clf = model.fit(features_train, classes_train)\n",
        "\n",
        "score_train = model.score(features_train, classes_train)\n",
        "score_test = model.score(features_test, classes_test)\n",
        "\n",
        "print(\"score_train:\", score_train)\n",
        "print(\"score_test:\", score_test)"
      ],
      "execution_count": 0,
      "outputs": [
        {
          "output_type": "stream",
          "text": [
            "('score_train:', 1.0)\n",
            "('score_test:', 0.9796296296296296)\n"
          ],
          "name": "stdout"
        }
      ]
    },
    {
      "metadata": {
        "id": "lqwYItsHaph3",
        "colab_type": "code",
        "outputId": "a817fa5d-2e80-4b58-d958-6f174d2eff57",
        "colab": {
          "base_uri": "https://localhost:8080/",
          "height": 51
        }
      },
      "cell_type": "code",
      "source": [
        "#Naive Bayes\n",
        "# Import datasets, classifiers and performance metrics\n",
        "from sklearn import datasets\n",
        "from sklearn import datasets, tree, model_selection\n",
        "from sklearn.naive_bayes import GaussianNB\n",
        "gnb = GaussianNB()\n",
        "\n",
        "\n",
        "# The digits dataset\n",
        "digits = datasets.load_digits()\n",
        "\n",
        "[features_train, features_test, classes_train, classes_test] = model_selection.train_test_split(digits.data, digits.target, test_size=0.30)\n",
        "y_pred = gnb.fit(features_train, classes_train)\n",
        "\n",
        "score_train = gnb.score(features_train, classes_train)\n",
        "score_test = gnb.score(features_test, classes_test)\n",
        "\n",
        "print(\"score_train:\", score_train)\n",
        "print(\"score_test:\", score_test)"
      ],
      "execution_count": 0,
      "outputs": [
        {
          "output_type": "stream",
          "text": [
            "('score_train:', 0.8599840891010342)\n",
            "('score_test:', 0.8222222222222222)\n"
          ],
          "name": "stdout"
        }
      ]
    }
  ]
}