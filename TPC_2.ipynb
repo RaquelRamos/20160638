{
  "nbformat": 4,
  "nbformat_minor": 0,
  "metadata": {
    "colab": {
      "name": "Copy of TPC_2.ipynb",
      "version": "0.3.2",
      "provenance": [],
      "collapsed_sections": [],
      "include_colab_link": true
    },
    "kernelspec": {
      "display_name": "Python 3",
      "language": "python",
      "name": "python3"
    }
  },
  "cells": [
    {
      "cell_type": "markdown",
      "metadata": {
        "id": "view-in-github",
        "colab_type": "text"
      },
      "source": [
        "<a href=\"https://colab.research.google.com/github/RaquelRamos/20160638/blob/master/TPC_2.ipynb\" target=\"_parent\"><img src=\"https://colab.research.google.com/assets/colab-badge.svg\" alt=\"Open In Colab\"/></a>"
      ]
    },
    {
      "metadata": {
        "id": "GHtdtSHyiAF9",
        "colab_type": "text"
      },
      "cell_type": "markdown",
      "source": [
        "# SAD - TPC 2\n",
        "\n",
        "### Dominar a linguagem Python 2\n",
        "\n",
        "----\n",
        "\n",
        "\n",
        "Uma cada carta é identificada pelo seu numero\n",
        "\n",
        "- 1,2,3,4,5,6,7,8,9,10,D,V,R (sendo os ultimos dama, valete e rei)\n",
        "\n",
        "e pelo seu naipe \n",
        "\n",
        "- copas(C); paus (P); Ouros (O); Espadas (E)\n",
        "\n",
        "Um exemplo de uma carta seria **E10** ou **PR**\n",
        "\n",
        "Considere um conjunto de N cartas definido numa lista A. \n",
        "\n",
        "Por exemplo, \n",
        "\n",
        "A = [P10, E9, C1]\n",
        "\n",
        "ou \n",
        "\n",
        "A = [\"1P\", \"1C\", \"1O\", \"2P\", \"2C\", \"2O\", \"2E\", \"3P\", \"3C\", \"3O\", \n",
        "     \"3E\", \"4P\", \"4C\", \"4O\", \"4E\", \"5P\", \"5C\", \"5O\", \"5E\", \"6P\", \"6C\", \"6O\", \n",
        "     \"6E\", \"7P\", \"7C\", \"7O\", \"7E\", \"8P\", \"8C\", \"8O\", \"8E\", \"9P\", \"9C\", \"9O\", \"9E\", \"DP\", \n",
        "     \"DC\", \"DO\", \"DE\", \"JP\", \"JC\", \"JO\", \"JE\", \"VP\", \"VC\", \"VO\", \"VE\", \"RP\", \"RC\", \"RO\", \"RE\", \n",
        "     \"1P\", \"1C\", \"1O\", \"1E\", \"2P\", \"2C\", \"2O\", \"2E\", \"3P\", \"3C\", \"3O\", \"3E\", \n",
        "     \"4P\", \"4C\", \"4O\", \"4E\", \"5P\", \"5C\", \"5O\", \"5E\", \"6P\", \"6C\", \"6O\", \"6E\", \"7P\", \"7C\", \n",
        "     \"7O\", \"7E\", \"8P\", \"8C\", \"8O\", \"8E\", \"9P\", \"9C\", \"9O\", \"9E\", \"DP\", \"DC\", \"DO\", \"DE\", \n",
        "     \"JP\", \"JC\", \"JO\", \"JE\", \"VP\", \"VC\", \"VO\", \"VE\", \"RP\", \"RC\", \"RO\", \"RE\", \"1P\", \"1C\", \n",
        "     \"1O\", \"1E\", \"2P\", \"2C\", \"2O\", \"2E\", \"3P\", \"3C\", \"3O\", \"3E\", \"4P\", \"4C\", \"4O\", \"4E\", \n",
        "     \"5P\", \"5C\", \"5O\", \"5E\", \"6P\", \"6C\", \"6O\", \"6E\", \"7P\", \"7C\", \"7O\", \"7E\", \"8P\", \"8C\", \n",
        "     \"8O\", \"8E\", \"9P\", \"9C\", \"9O\", \"9E\", \"DP\", \"DC\", \"DO\", \"DE\", \"JP\", \"JC\", \"JO\", \"JE\", \n",
        "     \"VP\", \"VC\", \"VO\", \"VE\", \"RP\", \"RC\", \"RO\", \"RE\"]\n",
        "\n",
        "\n",
        "ou \n",
        "\n",
        "\n",
        "\n",
        "\n",
        "Crie uma função que retorne o número de baralhos completos (com todas as cartas) existentes nessa lista."
      ]
    },
    {
      "metadata": {
        "id": "isGYgeSQiAGA",
        "colab_type": "code",
        "colab": {
          "base_uri": "https://localhost:8080/",
          "height": 34
        },
        "outputId": "f9f1a731-477e-4ebe-fa7f-a04b801f6508"
      },
      "cell_type": "code",
      "source": [
        "A = [\"1P\", \"1C\", \"1O\", \"2P\", \"2C\", \"2O\", \"2E\", \"3P\", \"3C\", \"3O\", \"3E\", \"4P\", \n",
        "     \"4C\", \"4O\", \"4E\", \"5P\", \"5C\", \"5O\", \"5E\", \"6P\", \"6C\", \"6O\", \"6E\", \"7P\", \n",
        "     \"7C\", \"7O\", \"7E\", \"8P\", \"8C\", \"8O\", \"8E\", \"9P\", \"9C\", \"9O\", \"9E\", \"DP\", \n",
        "     \"DC\", \"DO\", \"DE\", \"JP\", \"JC\", \"JO\", \"JE\", \"VP\", \"VC\", \"VO\", \"VE\", \"RP\", \n",
        "     \"RC\", \"RO\", \"RE\", \"1P\", \"1C\", \"1O\", \"1E\", \"2P\", \"2C\", \"2O\", \"2E\", \"3P\", \n",
        "     \"3C\", \"3O\", \"3E\", \"4P\", \"4C\", \"4O\", \"4E\", \"5P\", \"5C\", \"5O\", \"5E\", \"6P\", \n",
        "     \"6C\", \"6O\", \"6E\", \"7P\", \"7C\", \"7O\", \"7E\", \"8P\", \"8C\", \"8O\", \"8E\", \"9P\", \n",
        "     \"9C\", \"9O\", \"9E\", \"DP\", \"DC\", \"DO\", \"DE\", \"JP\", \"JC\", \"JO\", \"JE\", \"VP\", \n",
        "     \"VC\", \"VO\", \"VE\", \"RP\", \"RC\", \"RO\", \"RE\", \"1P\", \"1C\", \"1O\", \"1E\", \"2P\", \n",
        "     \"2C\", \"2O\", \"2E\", \"3P\", \"3C\", \"3O\", \"3E\", \"4P\", \"4C\", \"4O\", \"4E\", \"5P\", \n",
        "     \"5C\", \"5O\", \"5E\", \"6P\", \"6C\", \"6O\", \"6E\", \"7P\", \"7C\", \"7O\", \"7E\", \"8P\", \n",
        "     \"8C\", \"8O\", \"8E\", \"9P\", \"9C\", \"9O\", \"9E\", \"DP\", \"DC\", \"DO\", \"DE\", \"JP\", \n",
        "     \"JC\", \"JO\", \"JE\", \"VP\", \"VC\", \"VO\", \"VE\", \"RP\", \"RC\", \"RO\", \"RE\"]\n",
        "\n",
        "#Dicionário que contém o baralho completo pretendido \n",
        "\n",
        "B = {'1C': 0,'1E': 0,'1O': 0,'1P': 0,'2C': 0,'2E': 0,'2O': 0,'2P': 0,'3C': 0,\n",
        "     '3E': 0,'3O': 0,'3P': 0,'4C': 0,'4E': 0,'4O': 0,'4P': 0,'5C': 0,'5E': 0,\n",
        "     '5O': 0,'5P': 0,'6C': 0,'6E': 0,'6O': 0,'6P': 0,'7C': 0,'7E': 0,'7O': 0,\n",
        "     '7P': 0,'8C': 0,'8E': 0,'8O': 0,'8P': 0,'9C': 0,'9E': 0,'9O': 0,'9P': 0,\n",
        "     'DC': 0,'DE': 0,'DO': 0,'DP': 0,'JC': 0,'JE': 0,'JO': 0,'JP': 0,'RC': 0,\n",
        "     'RE': 0,'RO': 0,'RP': 0,'VC': 0,'VE': 0,'VO': 0,'VP': 0}\n",
        "\n",
        "#Ciclo que percorre a lista A fornecida e para cada entrada vai ao B adicionar\n",
        "#essa carta de forma a sabermos quais as cartas que se encontram na lista\n",
        "for carta in A:\n",
        "  B[carta] = B.get(carta,0) + 1\n",
        "B\n",
        "\n",
        "#Apresentação do número de baralhos completos através do valor mínimo de cartas\n",
        "min_val = min(B.values())\n",
        "print(\"O número de baralhos completos com as cartas disponíveis é:\", min_val)\n"
      ],
      "execution_count": 50,
      "outputs": [
        {
          "output_type": "stream",
          "text": [
            "O número de baralhos completos com as cartas disponíveis é: 2\n"
          ],
          "name": "stdout"
        }
      ]
    }
  ]
}